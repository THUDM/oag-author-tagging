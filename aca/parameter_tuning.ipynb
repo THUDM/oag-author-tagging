{
 "cells": [
  {
   "cell_type": "code",
   "execution_count": 43,
   "metadata": {},
   "outputs": [],
   "source": [
    "import xgboost as xgb\n",
    "from xgboost import XGBClassifier\n",
    "import first\n",
    "import pandas as pd\n",
    "import data_io as di\n",
    "from sklearn import cross_validation, metrics\n",
    "from sklearn.datasets import load_svmlight_file\n",
    "from sklearn.grid_search import GridSearchCV \n",
    "import matplotlib.pylab as plt\n",
    "%matplotlib inline\n",
    "from matplotlib.pylab import rcParams\n",
    "rcParams['figure.figsize'] = 12, 4\n"
   ]
  },
  {
   "cell_type": "code",
   "execution_count": 63,
   "metadata": {},
   "outputs": [],
   "source": [
    "def modelfit(alg, X, y,useTrainCV=True, cv_folds=5, early_stopping_rounds=50):\n",
    "    if useTrainCV:\n",
    "        xgb_param = alg.get_xgb_params()\n",
    "        xgtrain = xgb.DMatrix(X, y)\n",
    "        cvresult = xgb.cv(xgb_param, xgtrain, num_boost_round=alg.get_params()['n_estimators'], nfold=cv_folds,\n",
    "            metrics='auc', early_stopping_rounds=early_stopping_rounds)\n",
    "        alg.set_params(n_estimators=cvresult.shape[0])\n",
    "\n",
    "#Fit the algorithm on the data\n",
    "    alg.fit(X, y,eval_metric='error')\n",
    "\n",
    "#Predict training set:\n",
    "    dtrain_predictions = alg.predict(X)\n",
    "    dtrain_predprob = alg.predict_proba(X)[:,1]\n",
    "\n",
    "#Print model report:\n",
    "    print(\"\\nModel Report\")\n",
    "    print(\"Accuracy : %.4g\" % metrics.accuracy_score(y, dtrain_predictions))\n",
    "    print(\"AUC Score (Train): %f\" % metrics.roc_auc_score(y, dtrain_predprob))\n",
    "\n",
    "    feat_imp = pd.Series(alg.feature_importances_).sort_values(ascending=False)\n",
    "    feat_imp.plot(kind='bar', title='Feature Importances')\n",
    "    plt.ylabel('Feature Importance Score')"
   ]
  },
  {
   "cell_type": "code",
   "execution_count": null,
   "metadata": {},
   "outputs": [],
   "source": []
  },
  {
   "cell_type": "code",
   "execution_count": 64,
   "metadata": {},
   "outputs": [],
   "source": [
    "xgb1 = xgb.XGBClassifier(\n",
    " learning_rate =0.1,\n",
    " n_estimators=200,\n",
    " max_depth=5,\n",
    " min_child_weight=1,\n",
    " gamma=0,\n",
    " subsample=0.8,\n",
    " colsample_bytree=0.8,\n",
    " objective= 'binary:logistic',\n",
    " scale_pos_weight=1,\n",
    " random_state=27)"
   ]
  },
  {
   "cell_type": "code",
   "execution_count": 65,
   "metadata": {},
   "outputs": [
    {
     "name": "stdout",
     "output_type": "stream",
     "text": [
      "\n",
      "Model Report\n",
      "Accuracy : 0.9344\n",
      "AUC Score (Train): 0.934377\n"
     ]
    },
    {
     "data": {
      "image/png": "[encoded data removed]",
      "text/plain": [
       "<matplotlib.figure.Figure at 0x25a4506f5c0>"
      ]
     },
     "metadata": {},
     "output_type": "display_data"
    }
   ],
   "source": [
    "modelfit(xgb1, X, y)"
   ]
  },
  {
   "cell_type": "code",
   "execution_count": 52,
   "metadata": {},
   "outputs": [
    {
     "data": {
      "text/plain": [
       "([mean: 0.93154, std: 0.00250, params: {'max_depth': 3, 'min_child_weight': 1},\n",
       "  mean: 0.93152, std: 0.00256, params: {'max_depth': 3, 'min_child_weight': 3},\n",
       "  mean: 0.93156, std: 0.00251, params: {'max_depth': 3, 'min_child_weight': 5},\n",
       "  mean: 0.93098, std: 0.00271, params: {'max_depth': 5, 'min_child_weight': 1},\n",
       "  mean: 0.93113, std: 0.00274, params: {'max_depth': 5, 'min_child_weight': 3},\n",
       "  mean: 0.93117, std: 0.00270, params: {'max_depth': 5, 'min_child_weight': 5},\n",
       "  mean: 0.93033, std: 0.00293, params: {'max_depth': 7, 'min_child_weight': 1},\n",
       "  mean: 0.93047, std: 0.00290, params: {'max_depth': 7, 'min_child_weight': 3},\n",
       "  mean: 0.93081, std: 0.00283, params: {'max_depth': 7, 'min_child_weight': 5},\n",
       "  mean: 0.92994, std: 0.00309, params: {'max_depth': 9, 'min_child_weight': 1},\n",
       "  mean: 0.93018, std: 0.00293, params: {'max_depth': 9, 'min_child_weight': 3},\n",
       "  mean: 0.93059, std: 0.00284, params: {'max_depth': 9, 'min_child_weight': 5}],\n",
       " {'max_depth': 3, 'min_child_weight': 5},\n",
       " 0.9315632351457767)"
      ]
     },
     "execution_count": 52,
     "metadata": {},
     "output_type": "execute_result"
    }
   ],
   "source": [
    "param_test1 = {\n",
    "    'max_depth': list(range(3,10,2)),\n",
    "    'min_child_weight':list(range(1,6,2))\n",
    "}\n",
    "gsearch1 = GridSearchCV(estimator=XGBClassifier(learning_rate =0.1, n_estimators=200, max_depth=5,\n",
    "min_child_weight=1, gamma=0, subsample=0.8, colsample_bytree=0.8,\n",
    " objective= 'binary:logistic', nthread=4, scale_pos_weight=1, seed=27), \n",
    " param_grid = param_test1, scoring='roc_auc',n_jobs=4,iid=False, cv=5)\n",
    "gsearch1.fit(X,y)\n",
    "gsearch1.grid_scores_ ,gsearch1.best_params_, gsearch1.best_score_"
   ]
  },
  {
   "cell_type": "code",
   "execution_count": 51,
   "metadata": {},
   "outputs": [
    {
     "data": {
      "text/plain": [
       "([mean: 0.93122, std: 0.00272, params: {'max_depth': 2, 'min_child_weight': 4},\n",
       "  mean: 0.93122, std: 0.00267, params: {'max_depth': 2, 'min_child_weight': 5},\n",
       "  mean: 0.93122, std: 0.00266, params: {'max_depth': 2, 'min_child_weight': 6},\n",
       "  mean: 0.93152, std: 0.00258, params: {'max_depth': 3, 'min_child_weight': 4},\n",
       "  mean: 0.93156, std: 0.00251, params: {'max_depth': 3, 'min_child_weight': 5},\n",
       "  mean: 0.93153, std: 0.00261, params: {'max_depth': 3, 'min_child_weight': 6},\n",
       "  mean: 0.93155, std: 0.00265, params: {'max_depth': 4, 'min_child_weight': 4},\n",
       "  mean: 0.93149, std: 0.00260, params: {'max_depth': 4, 'min_child_weight': 5},\n",
       "  mean: 0.93151, std: 0.00264, params: {'max_depth': 4, 'min_child_weight': 6}],\n",
       " {'max_depth': 3, 'min_child_weight': 5},\n",
       " 0.9315632351457767)"
      ]
     },
     "execution_count": 51,
     "metadata": {},
     "output_type": "execute_result"
    }
   ],
   "source": [
    "param_test1 = {\n",
    "    'max_depth': list(range(2,5,1)),\n",
    "    'min_child_weight':list(range(4,7,1))\n",
    "}\n",
    "gsearch1 = GridSearchCV(estimator=XGBClassifier(learning_rate =0.1, n_estimators=200, max_depth=5,\n",
    "min_child_weight=1, gamma=0, subsample=0.8, colsample_bytree=0.8,\n",
    " objective= 'binary:logistic', nthread=4, scale_pos_weight=1, seed=27), \n",
    " param_grid = param_test1, scoring='roc_auc',n_jobs=4,iid=False, cv=5)\n",
    "gsearch1.fit(X,y)\n",
    "gsearch1.grid_scores_ ,gsearch1.best_params_, gsearch1.best_score_"
   ]
  },
  {
   "cell_type": "code",
   "execution_count": 70,
   "metadata": {},
   "outputs": [
    {
     "data": {
      "text/plain": [
       "([mean: 0.93156, std: 0.00251, params: {'gamma': 0.0},\n",
       "  mean: 0.93155, std: 0.00254, params: {'gamma': 0.1},\n",
       "  mean: 0.93155, std: 0.00253, params: {'gamma': 0.2},\n",
       "  mean: 0.93150, std: 0.00258, params: {'gamma': 0.3},\n",
       "  mean: 0.93153, std: 0.00258, params: {'gamma': 0.4},\n",
       "  mean: 0.93160, std: 0.00261, params: {'gamma': 0.5},\n",
       "  mean: 0.93156, std: 0.00260, params: {'gamma': 0.6},\n",
       "  mean: 0.93150, std: 0.00266, params: {'gamma': 0.7},\n",
       "  mean: 0.93154, std: 0.00268, params: {'gamma': 0.8},\n",
       "  mean: 0.93159, std: 0.00265, params: {'gamma': 0.9}],\n",
       " {'gamma': 0.5},\n",
       " 0.9316014768521474)"
      ]
     },
     "execution_count": 70,
     "metadata": {},
     "output_type": "execute_result"
    }
   ],
   "source": [
    "param_test3 = {\n",
    " 'gamma':[i/10.0 for i in range(0,10)]\n",
    "}\n",
    "gsearch3 = GridSearchCV(estimator = XGBClassifier( learning_rate =0.1, n_estimators=200, max_depth=3,\n",
    " min_child_weight=5, gamma=0, subsample=0.8, colsample_bytree=0.8,\n",
    " objective= 'binary:logistic', nthread=4, scale_pos_weight=1,seed=27), \n",
    " param_grid = param_test3, scoring='roc_auc',n_jobs=4,iid=False, cv=5)\n",
    "gsearch3.fit(X,y)\n",
    "gsearch3.grid_scores_, gsearch3.best_params_, gsearch3.best_score_"
   ]
  },
  {
   "cell_type": "code",
   "execution_count": 71,
   "metadata": {},
   "outputs": [
    {
     "data": {
      "text/plain": [
       "([mean: 0.93151, std: 0.00239, params: {'colsample_bytree': 0.4, 'subsample': 0.4},\n",
       "  mean: 0.93150, std: 0.00249, params: {'colsample_bytree': 0.4, 'subsample': 0.5},\n",
       "  mean: 0.93133, std: 0.00244, params: {'colsample_bytree': 0.4, 'subsample': 0.6},\n",
       "  mean: 0.93140, std: 0.00259, params: {'colsample_bytree': 0.4, 'subsample': 0.7},\n",
       "  mean: 0.93143, std: 0.00255, params: {'colsample_bytree': 0.4, 'subsample': 0.8},\n",
       "  mean: 0.93141, std: 0.00262, params: {'colsample_bytree': 0.4, 'subsample': 0.9},\n",
       "  mean: 0.93138, std: 0.00242, params: {'colsample_bytree': 0.5, 'subsample': 0.4},\n",
       "  mean: 0.93153, std: 0.00242, params: {'colsample_bytree': 0.5, 'subsample': 0.5},\n",
       "  mean: 0.93148, std: 0.00246, params: {'colsample_bytree': 0.5, 'subsample': 0.6},\n",
       "  mean: 0.93160, std: 0.00249, params: {'colsample_bytree': 0.5, 'subsample': 0.7},\n",
       "  mean: 0.93153, std: 0.00259, params: {'colsample_bytree': 0.5, 'subsample': 0.8},\n",
       "  mean: 0.93160, std: 0.00251, params: {'colsample_bytree': 0.5, 'subsample': 0.9},\n",
       "  mean: 0.93138, std: 0.00242, params: {'colsample_bytree': 0.6, 'subsample': 0.4},\n",
       "  mean: 0.93153, std: 0.00242, params: {'colsample_bytree': 0.6, 'subsample': 0.5},\n",
       "  mean: 0.93148, std: 0.00246, params: {'colsample_bytree': 0.6, 'subsample': 0.6},\n",
       "  mean: 0.93160, std: 0.00249, params: {'colsample_bytree': 0.6, 'subsample': 0.7},\n",
       "  mean: 0.93153, std: 0.00259, params: {'colsample_bytree': 0.6, 'subsample': 0.8},\n",
       "  mean: 0.93160, std: 0.00251, params: {'colsample_bytree': 0.6, 'subsample': 0.9},\n",
       "  mean: 0.93139, std: 0.00249, params: {'colsample_bytree': 0.7, 'subsample': 0.4},\n",
       "  mean: 0.93155, std: 0.00242, params: {'colsample_bytree': 0.7, 'subsample': 0.5},\n",
       "  mean: 0.93146, std: 0.00249, params: {'colsample_bytree': 0.7, 'subsample': 0.6},\n",
       "  mean: 0.93148, std: 0.00264, params: {'colsample_bytree': 0.7, 'subsample': 0.7},\n",
       "  mean: 0.93158, std: 0.00252, params: {'colsample_bytree': 0.7, 'subsample': 0.8},\n",
       "  mean: 0.93153, std: 0.00246, params: {'colsample_bytree': 0.7, 'subsample': 0.9},\n",
       "  mean: 0.93164, std: 0.00266, params: {'colsample_bytree': 0.8, 'subsample': 0.4},\n",
       "  mean: 0.93157, std: 0.00255, params: {'colsample_bytree': 0.8, 'subsample': 0.5},\n",
       "  mean: 0.93154, std: 0.00255, params: {'colsample_bytree': 0.8, 'subsample': 0.6},\n",
       "  mean: 0.93148, std: 0.00263, params: {'colsample_bytree': 0.8, 'subsample': 0.7},\n",
       "  mean: 0.93155, std: 0.00264, params: {'colsample_bytree': 0.8, 'subsample': 0.8},\n",
       "  mean: 0.93148, std: 0.00243, params: {'colsample_bytree': 0.8, 'subsample': 0.9},\n",
       "  mean: 0.93156, std: 0.00258, params: {'colsample_bytree': 0.9, 'subsample': 0.4},\n",
       "  mean: 0.93148, std: 0.00251, params: {'colsample_bytree': 0.9, 'subsample': 0.5},\n",
       "  mean: 0.93148, std: 0.00258, params: {'colsample_bytree': 0.9, 'subsample': 0.6},\n",
       "  mean: 0.93165, std: 0.00264, params: {'colsample_bytree': 0.9, 'subsample': 0.7},\n",
       "  mean: 0.93158, std: 0.00263, params: {'colsample_bytree': 0.9, 'subsample': 0.8},\n",
       "  mean: 0.93156, std: 0.00234, params: {'colsample_bytree': 0.9, 'subsample': 0.9}],\n",
       " {'colsample_bytree': 0.9, 'subsample': 0.7},\n",
       " 0.9316516988674749)"
      ]
     },
     "execution_count": 71,
     "metadata": {},
     "output_type": "execute_result"
    }
   ],
   "source": [
    "param_test4 = {\n",
    " 'subsample':[i/10.0 for i in range(4,10)],\n",
    " 'colsample_bytree':[i/10.0 for i in range(4,10)]\n",
    "}\n",
    "gsearch4 = GridSearchCV(estimator = XGBClassifier( learning_rate =0.1, n_estimators=200, max_depth=3,\n",
    " min_child_weight=5, gamma=0.5, subsample=0.8, colsample_bytree=0.8,\n",
    " objective= 'binary:logistic', nthread=4, scale_pos_weight=1,seed=27), \n",
    " param_grid = param_test4, scoring='roc_auc',n_jobs=4,iid=False, cv=5)\n",
    "gsearch4.fit(X, y)\n",
    "gsearch4.grid_scores_, gsearch4.best_params_, gsearch4.best_score_"
   ]
  },
  {
   "cell_type": "code",
   "execution_count": 72,
   "metadata": {
    "scrolled": true
   },
   "outputs": [
    {
     "data": {
      "text/plain": [
       "([mean: 0.93155, std: 0.00266, params: {'colsample_bytree': 0.8, 'subsample': 0.6},\n",
       "  mean: 0.93139, std: 0.00250, params: {'colsample_bytree': 0.8, 'subsample': 0.65},\n",
       "  mean: 0.93158, std: 0.00250, params: {'colsample_bytree': 0.8, 'subsample': 0.7},\n",
       "  mean: 0.93169, std: 0.00258, params: {'colsample_bytree': 0.8, 'subsample': 0.75},\n",
       "  mean: 0.93155, std: 0.00266, params: {'colsample_bytree': 0.85, 'subsample': 0.6},\n",
       "  mean: 0.93139, std: 0.00250, params: {'colsample_bytree': 0.85, 'subsample': 0.65},\n",
       "  mean: 0.93158, std: 0.00250, params: {'colsample_bytree': 0.85, 'subsample': 0.7},\n",
       "  mean: 0.93169, std: 0.00258, params: {'colsample_bytree': 0.85, 'subsample': 0.75},\n",
       "  mean: 0.93150, std: 0.00253, params: {'colsample_bytree': 0.9, 'subsample': 0.6},\n",
       "  mean: 0.93129, std: 0.00259, params: {'colsample_bytree': 0.9, 'subsample': 0.65},\n",
       "  mean: 0.93172, std: 0.00258, params: {'colsample_bytree': 0.9, 'subsample': 0.7},\n",
       "  mean: 0.93157, std: 0.00260, params: {'colsample_bytree': 0.9, 'subsample': 0.75},\n",
       "  mean: 0.93150, std: 0.00253, params: {'colsample_bytree': 0.95, 'subsample': 0.6},\n",
       "  mean: 0.93129, std: 0.00259, params: {'colsample_bytree': 0.95, 'subsample': 0.65},\n",
       "  mean: 0.93172, std: 0.00258, params: {'colsample_bytree': 0.95, 'subsample': 0.7},\n",
       "  mean: 0.93157, std: 0.00260, params: {'colsample_bytree': 0.95, 'subsample': 0.75}],\n",
       " {'colsample_bytree': 0.9, 'subsample': 0.7},\n",
       " 0.9317213983691044)"
      ]
     },
     "execution_count": 72,
     "metadata": {},
     "output_type": "execute_result"
    }
   ],
   "source": [
    "param_test5 = {\n",
    " 'subsample':[i/100.0 for i in range(60,80,5)],\n",
    " 'colsample_bytree':[i/100.0 for i in range(80,100,5)]\n",
    "}\n",
    "gsearch5 = GridSearchCV(estimator = XGBClassifier( learning_rate =0.1, n_estimators=200, max_depth=3,\n",
    " min_child_weight=5, gamma=0.5, subsample=0.8, colsample_bytree=0.8,\n",
    " objective= 'binary:logistic', nthread=4, scale_pos_weight=1,seed=27), \n",
    " param_grid = param_test5, scoring='roc_auc',n_jobs=4,iid=False, cv=5)\n",
    "gsearch5.fit(X, y)\n",
    "gsearch5.grid_scores_, gsearch5.best_params_, gsearch5.best_score_"
   ]
  },
  {
   "cell_type": "code",
   "execution_count": 74,
   "metadata": {},
   "outputs": [
    {
     "data": {
      "text/plain": [
       "([mean: 0.93161, std: 0.00268, params: {'reg_alpha': 1e-05},\n",
       "  mean: 0.93166, std: 0.00263, params: {'reg_alpha': 0.01},\n",
       "  mean: 0.93161, std: 0.00268, params: {'reg_alpha': 0},\n",
       "  mean: 0.93164, std: 0.00270, params: {'reg_alpha': 0.1},\n",
       "  mean: 0.93164, std: 0.00272, params: {'reg_alpha': 1},\n",
       "  mean: 0.92725, std: 0.00268, params: {'reg_alpha': 100}],\n",
       " {'reg_alpha': 0.01},\n",
       " 0.9316555272063324)"
      ]
     },
     "execution_count": 74,
     "metadata": {},
     "output_type": "execute_result"
    }
   ],
   "source": [
    "param_test6 = {\n",
    " 'reg_alpha':[1e-5, 1e-2, 0, 0.1, 1, 100]\n",
    "}\n",
    "gsearch6 = GridSearchCV(estimator = XGBClassifier( learning_rate =0.1, n_estimators=200, max_depth=3,\n",
    " min_child_weight=5, gamma=0.5, subsample=0.7, colsample_bytree=0.9,\n",
    " objective= 'binary:logistic', nthread=4, scale_pos_weight=1,seed=27), \n",
    " param_grid = param_test6, scoring='roc_auc',n_jobs=4,iid=False, cv=5)\n",
    "gsearch6.fit(X, y)\n",
    "gsearch6.grid_scores_, gsearch6.best_params_, gsearch6.best_score_"
   ]
  },
  {
   "cell_type": "code",
   "execution_count": null,
   "metadata": {
    "collapsed": true
   },
   "outputs": [],
   "source": []
  }
 ],
 "metadata": {
  "kernelspec": {
   "display_name": "Python 3",
   "language": "python",
   "name": "python3"
  },
  "language_info": {
   "codemirror_mode": {
    "name": "ipython",
    "version": 3
   },
   "file_extension": ".py",
   "mimetype": "text/x-python",
   "name": "python",
   "nbconvert_exporter": "python",
   "pygments_lexer": "ipython3",
   "version": "3.6.1"
  }
 },
 "nbformat": 4,
 "nbformat_minor": 2
}
